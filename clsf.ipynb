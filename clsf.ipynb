{
 "cells": [
  {
   "cell_type": "code",
   "execution_count": null,
   "metadata": {
    "vscode": {
     "languageId": "plaintext"
    }
   },
   "outputs": [],
   "source": [
    "import tensorflow as tf\n",
    "import numpy as np\n",
    "\n",
    "# Sample Dataset\n",
    "train_X = np.array([\n",
    "    [0.1, 0.2],\n",
    "    [0.4, 0.6],\n",
    "    [0.5, 0.8],\n",
    "    [0.9, 0.1],\n",
    "    [0.8, 0.5],\n",
    "    [0.3, 0.7],\n",
    "    [0.6, 0.9]\n",
    "], dtype=np.float32)\n",
    "train_y = np.array([0, 1, 1, 0, 1, 0, 1], dtype=np.float32)\n",
    "\n",
    "test_X = np.array([\n",
    "    [0.2, 0.1],\n",
    "    [0.6, 0.7],\n",
    "    [0.9, 0.3]\n",
    "], dtype=np.float32)\n",
    "\n",
    "# Updated Sequential Model\n",
    "model = tf.keras.Sequential([\n",
    "    tf.keras.layers.Dense(4, input_shape=(2,), activation='relu'),     # Hidden layer with ReLU\n",
    "    tf.keras.layers.Dense(1, activation='sigmoid')                     # Output layer with Sigmoid\n",
    "])\n",
    "\n",
    "# Compile the Model\n",
    "model.compile(optimizer='adam', loss='binary_crossentropy', metrics=['accuracy'])\n",
    "\n",
    "# Train the Model\n",
    "model.fit(train_X, train_y, epochs=1000, verbose=0)\n",
    "\n",
    "# Test the Model\n",
    "predictions = model.predict(test_X)\n",
    "predicted_labels = np.round(predictions).astype(int).flatten()\n",
    "\n",
    "# Display results\n",
    "print(\"Test Predictions:\", predicted_labels)"
   ]
  }
 ],
 "metadata": {
  "language_info": {
   "name": "python"
  }
 },
 "nbformat": 4,
 "nbformat_minor": 2
}
