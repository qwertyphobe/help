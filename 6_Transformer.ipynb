{
 "cells": [
  {
   "cell_type": "code",
   "execution_count": 2,
   "metadata": {},
   "outputs": [
    {
     "name": "stderr",
     "output_type": "stream",
     "text": [
      "/home/prem/anaconda3/envs/scapeBoar/lib/python3.12/site-packages/tqdm/auto.py:21: TqdmWarning: IProgress not found. Please update jupyter and ipywidgets. See https://ipywidgets.readthedocs.io/en/stable/user_install.html\n",
      "  from .autonotebook import tqdm as notebook_tqdm\n",
      "No model was supplied, defaulted to distilbert/distilbert-base-uncased-finetuned-sst-2-english and revision 714eb0f (https://huggingface.co/distilbert/distilbert-base-uncased-finetuned-sst-2-english).\n",
      "Using a pipeline without specifying a model name and revision in production is not recommended.\n",
      "No model was supplied, defaulted to dbmdz/bert-large-cased-finetuned-conll03-english and revision 4c53496 (https://huggingface.co/dbmdz/bert-large-cased-finetuned-conll03-english).\n",
      "Using a pipeline without specifying a model name and revision in production is not recommended.\n",
      "Some weights of the model checkpoint at dbmdz/bert-large-cased-finetuned-conll03-english were not used when initializing BertForTokenClassification: ['bert.pooler.dense.bias', 'bert.pooler.dense.weight']\n",
      "- This IS expected if you are initializing BertForTokenClassification from the checkpoint of a model trained on another task or with another architecture (e.g. initializing a BertForSequenceClassification model from a BertForPreTraining model).\n",
      "- This IS NOT expected if you are initializing BertForTokenClassification from the checkpoint of a model that you expect to be exactly identical (initializing a BertForSequenceClassification model from a BertForSequenceClassification model).\n"
     ]
    }
   ],
   "source": [
    "import torch\n",
    "from transformers import pipeline\n",
    "\n",
    "sentiment_model = pipeline(\"sentiment-analysis\")\n",
    "\n",
    "ner_model = pipeline(\"ner\", aggregation_strategy=\"simple\")\n",
    "\n",
    "text_gen_model = pipeline(\"text-generation\", model=\"gpt2\")\n"
   ]
  },
  {
   "cell_type": "code",
   "execution_count": 5,
   "metadata": {},
   "outputs": [],
   "source": [
    "def process_text(input_text):\n",
    "    # sentiment analysis\n",
    "    sentiment = sentiment_model(input_text)\n",
    "    \n",
    "    # named Entity Recognition\n",
    "    entities = ner_model(input_text)\n",
    "    \n",
    "    # with a prompt the models adds its own text\n",
    "    generated_text = text_gen_model(input_text, max_length=50, num_return_sequences=1)\n",
    "    \n",
    "    sentiment_result = sentiment[0]\n",
    "    entities_result = [{\"word\": entity[\"word\"], \"label\": entity[\"entity_group\"]} for entity in entities]\n",
    "    generated_result = generated_text[0]['generated_text']\n",
    "    \n",
    "    return {\n",
    "        \"sentiment\": sentiment_result,\n",
    "        \"entities\": entities_result,\n",
    "        \"generated_text\": generated_result\n",
    "    }\n"
   ]
  },
  {
   "cell_type": "code",
   "execution_count": 6,
   "metadata": {},
   "outputs": [
    {
     "name": "stderr",
     "output_type": "stream",
     "text": [
      "Truncation was not explicitly activated but `max_length` is provided a specific value, please use `truncation=True` to explicitly truncate examples to max length. Defaulting to 'longest_first' truncation strategy. If you encode pairs of sequences (GLUE-style) with the tokenizer you can select this strategy more precisely by providing a specific strategy to `truncation`.\n",
      "Setting `pad_token_id` to `eos_token_id`:None for open-end generation.\n"
     ]
    },
    {
     "name": "stdout",
     "output_type": "stream",
     "text": [
      "\n",
      "Sentiment analysis result:\n",
      "{'label': 'NEGATIVE', 'score': 0.9809920191764832}\n",
      "\n",
      "Named Entities Recognized:\n",
      "\n",
      "Generated Continuation:\n",
      "prem is such a fat boy!\" says the man. \"This is not an ordinary place in the country. I am glad. I thought that if I were to work here one day it would be possible to get a job, but I don't\n"
     ]
    }
   ],
   "source": [
    "input_text = input(\"Enter your text: \")\n",
    "output = process_text(input_text)\n",
    "\n",
    "print(\"\\nSentiment analysis result:\")\n",
    "print(output[\"sentiment\"])\n",
    "\n",
    "print(\"\\nNamed Entities Recognized:\")\n",
    "for entity in output[\"entities\"]:\n",
    "    print(f\"{entity['word']} ({entity['label']})\")\n",
    "\n",
    "print(\"\\nGenerated Continuation:\")\n",
    "print(output[\"generated_text\"])"
   ]
  }
 ],
 "metadata": {
  "kernelspec": {
   "display_name": "scapeBoar",
   "language": "python",
   "name": "python3"
  },
  "language_info": {
   "codemirror_mode": {
    "name": "ipython",
    "version": 3
   },
   "file_extension": ".py",
   "mimetype": "text/x-python",
   "name": "python",
   "nbconvert_exporter": "python",
   "pygments_lexer": "ipython3",
   "version": "3.12.7"
  }
 },
 "nbformat": 4,
 "nbformat_minor": 2
}
